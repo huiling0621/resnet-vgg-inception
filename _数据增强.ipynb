{
 "cells": [
  {
   "cell_type": "markdown",
   "metadata": {},
   "source": [
    "# 数据增强"
   ]
  },
  {
   "cell_type": "code",
   "execution_count": null,
   "metadata": {},
   "outputs": [],
   "source": [
    "import numpy as np  \n",
    "import os  \n",
    "import math  \n",
    "import tensorflow as tf  \n",
    "from skimage import io  \n",
    "import random  \n",
    "  \n",
    "from PIL import Image\n",
    "import matplotlib.pyplot as plt"
   ]
  },
  {
   "cell_type": "code",
   "execution_count": null,
   "metadata": {},
   "outputs": [],
   "source": [
    "import os.path\n",
    "from PIL import Image"
   ]
  },
  {
   "cell_type": "code",
   "execution_count": null,
   "metadata": {},
   "outputs": [],
   "source": [
    "def aug(img_name,new_path):\n",
    "        img = Image.open(img_name)\n",
    "#灰度\n",
    "        gray=img.convert('L')\n",
    "        gray.save(os.path.join(new_path,os.path.basename(img_name)))\n",
    "    #image_brightened.show() \n",
    "#通道分离与合并\n",
    "        r,g,b=img.split()   #分离三通道\n",
    "        pic=Image.merge('RGB',(r,g,b)) #合并三通道\n",
    "        r.save(os.path.join(new_path,'r' + os.path.basename(img_name)))\n",
    "        g.save(os.path.join(new_path,'g' + os.path.basename(img_name)))\n",
    "        b.save(os.path.join(new_path,'b' + os.path.basename(img_name)))\n",
    "# 图片裁剪       \n",
    "        box=(80,100,260,300)\n",
    "        roi=img.crop(box)\n",
    "        roi.save(os.path.join(new_path,'roi' + os.path.basename(img_name)))\n",
    "#image_contrasted.show() \n",
    "#旋转       \n",
    "        dst1 = img.rotate(45) # 顺时针角度表示\n",
    "        dst1.save(os.path.join(new_path,'dst1' + os.path.basename(img_name)))\n",
    "#image_sharped.show()\n",
    "#转换图像\n",
    "        dst2 = img.transpose(Image.FLIP_LEFT_RIGHT) #左右互换\n",
    "        dst2.save(os.path.join(new_path,'dst2' + os.path.basename(img_name)))\n",
    "        \n",
    "        dst3 = img.transpose(Image.FLIP_TOP_BOTTOM) #上下互换\n",
    "        dst3.save(os.path.join(new_path,'dst3' + os.path.basename(img_name)))\n",
    "        \n",
    "        dst4 = img.transpose(Image.ROTATE_90)  #顺时针旋转\n",
    "        dst4.save(os.path.join(new_path,'dst4' + os.path.basename(img_name)))\n",
    "        \n",
    "        dst5 = img.transpose(Image.ROTATE_180)\n",
    "        dst5.save(os.path.join(new_path,'dst5' + os.path.basename(img_name)))\n",
    "        \n",
    "        dst6 = img.transpose(Image.ROTATE_270)\n",
    "        dst6.save(os.path.join(new_path,'dst6' + os.path.basename(img_name)))\n",
    "        \n",
    "\"C:/Users/zhuhuiling/Desktop/12306train3\"\n",
    "                                           \n"
   ]
  },
  {
   "cell_type": "code",
   "execution_count": null,
   "metadata": {},
   "outputs": [],
   "source": [
    "def aug1(img_name,new_path):\n",
    "        img = Image.open(img_name)\n",
    "#灰度\n",
    "        gray=img.convert('L')\n",
    "        gray.save(os.path.join(new_path,os.path.basename(img_name)))\n",
    "    #image_brightened.show() \n",
    "#通道分离与合并\n",
    "        r,g,b=img.split()   #分离三通道\n",
    "        pic=Image.merge('RGB',(r,g,b)) #合并三通道\n",
    "        r.save(os.path.join(new_path,'r' + os.path.basename(img_name)))\n",
    "        g.save(os.path.join(new_path,'g' + os.path.basename(img_name)))\n",
    "        b.save(os.path.join(new_path,'b' + os.path.basename(img_name)))\n",
    "# 图片裁剪       \n",
    "       # box=(80,100,260,300)\n",
    "        #roi=img.crop(box)\n",
    "        #roi.save(os.path.join(new_path,'roi' + os.path.basename(img_name)))\n",
    "#image_contrasted.show() \n",
    "#旋转       \n",
    "        dst1 = img.rotate(45) # 顺时针角度表示\n",
    "        dst1.save(os.path.join(new_path,'dst1' + os.path.basename(img_name)))\n",
    "#image_sharped.show()\n",
    "#转换图像\n",
    "        dst2 = img.transpose(Image.FLIP_LEFT_RIGHT) #左右互换\n",
    "        dst2.save(os.path.join(new_path,'dst2' + os.path.basename(img_name)))\n",
    "        \n",
    "        dst3 = img.transpose(Image.FLIP_TOP_BOTTOM) #上下互换\n",
    "        dst3.save(os.path.join(new_path,'dst3' + os.path.basename(img_name)))\n",
    "        \n",
    "        dst4 = img.transpose(Image.ROTATE_90)  #顺时针旋转\n",
    "        dst4.save(os.path.join(new_path,'dst4' + os.path.basename(img_name)))\n",
    "        \n",
    "        dst5 = img.transpose(Image.ROTATE_180)\n",
    "        dst5.save(os.path.join(new_path,'dst5' + os.path.basename(img_name)))\n",
    "        \n",
    "        dst6 = img.transpose(Image.ROTATE_270)\n",
    "        dst6.save(os.path.join(new_path,'dst6' + os.path.basename(img_name)))\n",
    "        \n",
    "\"C:/Users/zhuhuiling/Desktop/12306train3\"\n",
    "                                           \n"
   ]
  },
  {
   "cell_type": "code",
   "execution_count": null,
   "metadata": {},
   "outputs": [],
   "source": [
    "path = \"C:/Users/zhuhuiling/Desktop/0121_æ±æ»/0118_汇总/no_damage_together_959\"\n",
    "\n",
    "if os.path.isdir(path):\n",
    "    img_names = os.listdir(path)\n",
    "    images = []\n",
    "    for img_name in img_names:\n",
    "        tmp_img_name = os.path.join(path, img_name)\n",
    "        images.append( tmp_img_name)\n"
   ]
  },
  {
   "cell_type": "code",
   "execution_count": null,
   "metadata": {},
   "outputs": [],
   "source": []
  },
  {
   "cell_type": "code",
   "execution_count": null,
   "metadata": {},
   "outputs": [],
   "source": [
    "i = images[805]\n",
    "img = Image.open(i)\n",
    "box=(80,100,260,300)\n",
    "roi=img.crop(box)\n",
    "roi.save(os.path.join(\"C:/Users/zhuhuiling/Desktop\", os.path.basename(i)))"
   ]
  },
  {
   "cell_type": "code",
   "execution_count": null,
   "metadata": {},
   "outputs": [],
   "source": [
    "# 图片裁剪\n",
    "j=0\n",
    "for i in images[890:]:\n",
    "    img = Image.open(i)\n",
    "    box=(80,100,260,300)\n",
    "    roi=img.crop(box)\n",
    "    roi.save(os.path.join(\"C:/Users/zhuhuiling/Desktop/12306train3\", os.path.basename(i)))\n"
   ]
  },
  {
   "cell_type": "code",
   "execution_count": null,
   "metadata": {},
   "outputs": [],
   "source": [
    "#scratch\n",
    "path1 = \"C:/Users/zhuhuiling/Desktop/0121_æ±æ»/0118_汇总/scratch_together_509\"\n",
    "\n",
    "if os.path.isdir(path1):\n",
    "    img_names = os.listdir(path1)\n",
    "    images1 = []\n",
    "    for img_name in img_names:\n",
    "        tmp_img_name = os.path.join(path1, img_name)\n",
    "        images1.append( tmp_img_name)\n",
    "images1[9]"
   ]
  },
  {
   "cell_type": "code",
   "execution_count": null,
   "metadata": {},
   "outputs": [],
   "source": [
    "# 图片裁剪\n",
    "\n",
    "for i in images1[460:]:\n",
    "    aug(i,\"C:/Users/zhuhuiling/Desktop/scra\")"
   ]
  },
  {
   "cell_type": "code",
   "execution_count": null,
   "metadata": {},
   "outputs": [],
   "source": [
    "# other\n",
    "path2 = \"C:/Users/zhuhuiling/Desktop/0121_æ±æ»/0118_汇总/other_damage_together_286\"\n",
    "os.path.isdir(path2)\n",
    "img_names = os.listdir(path2)\n"
   ]
  },
  {
   "cell_type": "code",
   "execution_count": null,
   "metadata": {},
   "outputs": [],
   "source": [
    "\n",
    "if os.path.isdir(path2):\n",
    "    img_names = os.listdir(path2)\n",
    "    images2 = []\n",
    "    for img_name in img_names:\n",
    "        tmp_img_name = os.path.join(path2, img_name)\n",
    "        images2.append( tmp_img_name)\n"
   ]
  },
  {
   "cell_type": "code",
   "execution_count": null,
   "metadata": {},
   "outputs": [],
   "source": [
    "for i in images2[283:]:\n",
    "    aug(i,\"C:/Users/zhuhuiling/Desktop/other\")"
   ]
  },
  {
   "cell_type": "code",
   "execution_count": null,
   "metadata": {},
   "outputs": [],
   "source": [
    "#no_damage\n",
    "path3 = \"C:/Users/zhuhuiling/Desktop/0121_æ±æ»/扩增/no_damage\"\n",
    "if os.path.isdir(path3):\n",
    "    img_names = os.listdir(path3)\n",
    "    images3 = []\n",
    "    for img_name in img_names:\n",
    "        tmp_img_name = os.path.join(path3, img_name)\n",
    "        images3.append( tmp_img_name)\n"
   ]
  },
  {
   "cell_type": "code",
   "execution_count": null,
   "metadata": {},
   "outputs": [],
   "source": [
    "for i in images3:\n",
    "    aug1(i,\"C:/Users/zhuhuiling/Desktop/0121_æ±æ»/扩增/no_damage\")"
   ]
  },
  {
   "cell_type": "code",
   "execution_count": null,
   "metadata": {},
   "outputs": [],
   "source": []
  }
 ],
 "metadata": {
  "kernelspec": {
   "display_name": "Python 3",
   "language": "python",
   "name": "python3"
  },
  "language_info": {
   "codemirror_mode": {
    "name": "ipython",
    "version": 3
   },
   "file_extension": ".py",
   "mimetype": "text/x-python",
   "name": "python",
   "nbconvert_exporter": "python",
   "pygments_lexer": "ipython3",
   "version": "3.6.3"
  }
 },
 "nbformat": 4,
 "nbformat_minor": 2
}
